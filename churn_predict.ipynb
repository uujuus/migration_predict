{
 "cells": [
  {
   "cell_type": "markdown",
   "metadata": {},
   "source": [
    "### KDT\n",
    "#### 1. Python 데이터분석: 예측모델 개발\n",
    "\n",
    "- 강사: 최가람, 천재교육 AI센터 데이터기획분석팀원\n",
    "- 주요 업무: 이탈 예측, 추천 (도서, 콘텐츠) 모델 개발 및 운영, 데이터 분석 업무\n",
    "\n",
    "- 일정: 2023.8.07 ~ 8.08\n",
    "<p>\n",
    "\n",
    "- 교육내용\n",
    "    - <b>이탈 예측 모델 개념 및 활용 데이터 설명</b>\n",
    "    - <b>데이터 전처리 모듈 개발</b>\n",
    "    - <b>분석 모델링 개발 실습 1 (Logistic Regression, LGBM)</b>\n",
    "    - 분석 모델링 개발 실습 2 (Logistic Regression, LGBM)\n",
    "    - 성능 지표 개념 (Confusion Matrix)\n",
    "    - 모델 성능 결과 분석\n",
    "    - 모델 최적화\n",
    "<p>\n",
    "\n",
    "- 교육목표\n",
    "    - 온라인 교육 서비스를 이용하고 있는 유저들의 이력을 바탕으로 이탈 여부를 예측할 수 있는 모델을 개발해보자\n",
    "    - 통합학년 이탈 예측 모델 구성\n",
    "    - 학년 별 이탈 예측 모델 구성\n",
    "    - 구매/재구매 별 이탈 예측 모델 구성\n",
    "    - 과제) 이탈 예측 모델 개발: 활용 데이터 간략 설명, 예측 모델(logistic, DCT, Xgboost, LGBM 등등) 구성, ** 성능 지표를 통한 결과 설명 **"
   ]
  },
  {
   "cell_type": "markdown",
   "metadata": {},
   "source": [
    "#### 2. 이탈예측 데이터 분석"
   ]
  },
  {
   "cell_type": "code",
   "execution_count": 1,
   "metadata": {},
   "outputs": [],
   "source": [
    "# 데이터 읽어오기\n",
    "# 파일명: churn_data.csv"
   ]
  },
  {
   "cell_type": "code",
   "execution_count": 2,
   "metadata": {},
   "outputs": [],
   "source": [
    "import pandas as pd\n",
    "import matplotlib.pyplot as plt\n",
    "import koreanize_matplotlib\n",
    "churn = pd.read_csv('./data/churn_data.csv', encoding = 'cp949')"
   ]
  },
  {
   "cell_type": "code",
   "execution_count": 3,
   "metadata": {},
   "outputs": [
    {
     "data": {
      "text/plain": [
       "60000"
      ]
     },
     "execution_count": 3,
     "metadata": {},
     "output_type": "execute_result"
    }
   ],
   "source": [
    "len(churn)"
   ]
  },
  {
   "cell_type": "code",
   "execution_count": 4,
   "metadata": {},
   "outputs": [],
   "source": [
    "churn = churn.fillna(0)\n",
    "\n",
    "churn = churn.drop(columns=['number'])"
   ]
  },
  {
   "cell_type": "code",
   "execution_count": 5,
   "metadata": {},
   "outputs": [
    {
     "data": {
      "text/plain": [
       "Index(['system_id', 'grade_sect_cd', 'mbr_sex_cd', 'tmon_pchrg_lrn_dcnt',\n",
       "       'acmlt_pchrg_lrn_dcnt', 'acmlt_bilclct_amt', 'correct_rate_avg',\n",
       "       'learning_time_avg', 'media_action_cnt_sum', 'non_video_viewed_cnt_sum',\n",
       "       'get_mm_point_sum', 'label', 're_purch'],\n",
       "      dtype='object')"
      ]
     },
     "execution_count": 5,
     "metadata": {},
     "output_type": "execute_result"
    }
   ],
   "source": [
    "churn.columns"
   ]
  },
  {
   "cell_type": "code",
   "execution_count": 6,
   "metadata": {},
   "outputs": [],
   "source": [
    "churn[\"re_purch\"] = churn[\"re_purch\"].astype(int)"
   ]
  },
  {
   "cell_type": "code",
   "execution_count": 7,
   "metadata": {},
   "outputs": [],
   "source": [
    "# 데이터 기본 확인 (전체 레코드 수, 컬럼명 등)"
   ]
  },
  {
   "cell_type": "markdown",
   "metadata": {},
   "source": [
    "컬럼 설명\n",
    "\n",
    "- system_id\t: system 상 id\n",
    "- grade_sect_cd\t: 학년 (1~6학년)\n",
    "- mbr_sex_cd : 성별\n",
    "- tmon_pchrg_lrn_dcnt : 당월 유료 학습 일 수\n",
    "- acmlt_pchrg_lrn_dcnt : 누적 유료 학습 일 수 (성숙도)\n",
    "- acmlt_bilclct_amt\t: 누적 수금액\n",
    "- correct_rate_avg\t: 당월 획득 점수 평균\n",
    "- learning_time_avg\t: 당월 학습 시간 평균\n",
    "- media_action_cnt_sum : 미디어 콘텐츠 내 동영상 행동 횟수 (총합)\n",
    "- non_video_viewed_cnt_sum : 미디어 콘텐츠 미시청 행동 횟수\n",
    "- get_mm_point_sum : 당월 획득 포인트 합 (사용 x)\n",
    "- label\t: 이탈, 미이탈 여부 (0 - 미이탈, 1 - 이탈)\n",
    "- re_purch : 구매, 재구매 여부 (False - 신규, True - 재구매)"
   ]
  },
  {
   "cell_type": "code",
   "execution_count": 8,
   "metadata": {},
   "outputs": [
    {
     "name": "stdout",
     "output_type": "stream",
     "text": [
      "<class 'pandas.core.frame.DataFrame'>\n",
      "RangeIndex: 60000 entries, 0 to 59999\n",
      "Data columns (total 13 columns):\n",
      " #   Column                    Non-Null Count  Dtype  \n",
      "---  ------                    --------------  -----  \n",
      " 0   system_id                 60000 non-null  object \n",
      " 1   grade_sect_cd             60000 non-null  object \n",
      " 2   mbr_sex_cd                60000 non-null  object \n",
      " 3   tmon_pchrg_lrn_dcnt       60000 non-null  float64\n",
      " 4   acmlt_pchrg_lrn_dcnt      60000 non-null  float64\n",
      " 5   acmlt_bilclct_amt         60000 non-null  float64\n",
      " 6   correct_rate_avg          60000 non-null  float64\n",
      " 7   learning_time_avg         60000 non-null  float64\n",
      " 8   media_action_cnt_sum      60000 non-null  float64\n",
      " 9   non_video_viewed_cnt_sum  60000 non-null  float64\n",
      " 10  get_mm_point_sum          60000 non-null  float64\n",
      " 11  label                     60000 non-null  int64  \n",
      " 12  re_purch                  60000 non-null  int32  \n",
      "dtypes: float64(8), int32(1), int64(1), object(3)\n",
      "memory usage: 5.7+ MB\n"
     ]
    }
   ],
   "source": [
    "# 컬럼 별 값 확인 (범주형)\n",
    "# 학년, 성별, label, re_purch\n",
    "churn.info()"
   ]
  },
  {
   "cell_type": "code",
   "execution_count": 9,
   "metadata": {},
   "outputs": [
    {
     "data": {
      "text/html": [
       "<div>\n",
       "<style scoped>\n",
       "    .dataframe tbody tr th:only-of-type {\n",
       "        vertical-align: middle;\n",
       "    }\n",
       "\n",
       "    .dataframe tbody tr th {\n",
       "        vertical-align: top;\n",
       "    }\n",
       "\n",
       "    .dataframe thead th {\n",
       "        text-align: right;\n",
       "    }\n",
       "</style>\n",
       "<table border=\"1\" class=\"dataframe\">\n",
       "  <thead>\n",
       "    <tr style=\"text-align: right;\">\n",
       "      <th></th>\n",
       "      <th>system_id</th>\n",
       "      <th>grade_sect_cd</th>\n",
       "      <th>mbr_sex_cd</th>\n",
       "      <th>tmon_pchrg_lrn_dcnt</th>\n",
       "      <th>acmlt_pchrg_lrn_dcnt</th>\n",
       "      <th>acmlt_bilclct_amt</th>\n",
       "      <th>correct_rate_avg</th>\n",
       "      <th>learning_time_avg</th>\n",
       "      <th>media_action_cnt_sum</th>\n",
       "      <th>non_video_viewed_cnt_sum</th>\n",
       "      <th>get_mm_point_sum</th>\n",
       "      <th>label</th>\n",
       "      <th>re_purch</th>\n",
       "      <th>grade</th>\n",
       "    </tr>\n",
       "  </thead>\n",
       "  <tbody>\n",
       "    <tr>\n",
       "      <th>0</th>\n",
       "      <td>87ee0282-ece5-4491-bb07-be93854750ac</td>\n",
       "      <td>G011</td>\n",
       "      <td>M</td>\n",
       "      <td>31.0</td>\n",
       "      <td>247.0</td>\n",
       "      <td>952000.0</td>\n",
       "      <td>0.59</td>\n",
       "      <td>670.48</td>\n",
       "      <td>673.0</td>\n",
       "      <td>306.0</td>\n",
       "      <td>1377.0</td>\n",
       "      <td>0</td>\n",
       "      <td>0</td>\n",
       "      <td>1</td>\n",
       "    </tr>\n",
       "    <tr>\n",
       "      <th>1</th>\n",
       "      <td>8817ada1-b7ad-4713-b041-ee180540cb87</td>\n",
       "      <td>G011</td>\n",
       "      <td>M</td>\n",
       "      <td>31.0</td>\n",
       "      <td>238.0</td>\n",
       "      <td>1071000.0</td>\n",
       "      <td>0.00</td>\n",
       "      <td>0.00</td>\n",
       "      <td>0.0</td>\n",
       "      <td>0.0</td>\n",
       "      <td>0.0</td>\n",
       "      <td>0</td>\n",
       "      <td>0</td>\n",
       "      <td>1</td>\n",
       "    </tr>\n",
       "    <tr>\n",
       "      <th>2</th>\n",
       "      <td>884cddf4-bda5-4d81-960c-b9a4892645f0</td>\n",
       "      <td>G011</td>\n",
       "      <td>F</td>\n",
       "      <td>31.0</td>\n",
       "      <td>92.0</td>\n",
       "      <td>436000.0</td>\n",
       "      <td>0.70</td>\n",
       "      <td>400.44</td>\n",
       "      <td>1067.0</td>\n",
       "      <td>468.0</td>\n",
       "      <td>6289.0</td>\n",
       "      <td>0</td>\n",
       "      <td>0</td>\n",
       "      <td>1</td>\n",
       "    </tr>\n",
       "    <tr>\n",
       "      <th>3</th>\n",
       "      <td>8a58832b-592b-4b33-b05e-0e11422d73d5</td>\n",
       "      <td>G011</td>\n",
       "      <td>M</td>\n",
       "      <td>31.0</td>\n",
       "      <td>370.0</td>\n",
       "      <td>1417000.0</td>\n",
       "      <td>0.81</td>\n",
       "      <td>914.47</td>\n",
       "      <td>840.0</td>\n",
       "      <td>212.0</td>\n",
       "      <td>1714.0</td>\n",
       "      <td>0</td>\n",
       "      <td>0</td>\n",
       "      <td>1</td>\n",
       "    </tr>\n",
       "    <tr>\n",
       "      <th>4</th>\n",
       "      <td>8af8f516-a9f0-4b6a-a27f-fc77ba51f708</td>\n",
       "      <td>G011</td>\n",
       "      <td>M</td>\n",
       "      <td>1.0</td>\n",
       "      <td>1.0</td>\n",
       "      <td>109000.0</td>\n",
       "      <td>0.00</td>\n",
       "      <td>0.00</td>\n",
       "      <td>0.0</td>\n",
       "      <td>0.0</td>\n",
       "      <td>0.0</td>\n",
       "      <td>0</td>\n",
       "      <td>0</td>\n",
       "      <td>1</td>\n",
       "    </tr>\n",
       "    <tr>\n",
       "      <th>...</th>\n",
       "      <td>...</td>\n",
       "      <td>...</td>\n",
       "      <td>...</td>\n",
       "      <td>...</td>\n",
       "      <td>...</td>\n",
       "      <td>...</td>\n",
       "      <td>...</td>\n",
       "      <td>...</td>\n",
       "      <td>...</td>\n",
       "      <td>...</td>\n",
       "      <td>...</td>\n",
       "      <td>...</td>\n",
       "      <td>...</td>\n",
       "      <td>...</td>\n",
       "    </tr>\n",
       "    <tr>\n",
       "      <th>59995</th>\n",
       "      <td>3d97d2c6-50dd-4c12-9fee-01578d691b0d</td>\n",
       "      <td>G016</td>\n",
       "      <td>F</td>\n",
       "      <td>31.0</td>\n",
       "      <td>613.0</td>\n",
       "      <td>1180000.0</td>\n",
       "      <td>0.69</td>\n",
       "      <td>262.33</td>\n",
       "      <td>41.0</td>\n",
       "      <td>26.0</td>\n",
       "      <td>590.0</td>\n",
       "      <td>0</td>\n",
       "      <td>1</td>\n",
       "      <td>6</td>\n",
       "    </tr>\n",
       "    <tr>\n",
       "      <th>59996</th>\n",
       "      <td>41258431-f36d-46e7-a0d4-43f98edafd21</td>\n",
       "      <td>G016</td>\n",
       "      <td>M</td>\n",
       "      <td>31.0</td>\n",
       "      <td>62.0</td>\n",
       "      <td>178000.0</td>\n",
       "      <td>0.69</td>\n",
       "      <td>164.69</td>\n",
       "      <td>429.0</td>\n",
       "      <td>187.0</td>\n",
       "      <td>812.0</td>\n",
       "      <td>0</td>\n",
       "      <td>1</td>\n",
       "      <td>6</td>\n",
       "    </tr>\n",
       "    <tr>\n",
       "      <th>59997</th>\n",
       "      <td>4157bf9d-92ea-4656-a2f6-9ac53ced8328</td>\n",
       "      <td>G016</td>\n",
       "      <td>F</td>\n",
       "      <td>31.0</td>\n",
       "      <td>217.0</td>\n",
       "      <td>872000.0</td>\n",
       "      <td>0.43</td>\n",
       "      <td>353.55</td>\n",
       "      <td>853.0</td>\n",
       "      <td>417.0</td>\n",
       "      <td>3064.0</td>\n",
       "      <td>0</td>\n",
       "      <td>0</td>\n",
       "      <td>6</td>\n",
       "    </tr>\n",
       "    <tr>\n",
       "      <th>59998</th>\n",
       "      <td>416c8ba3-330b-45fc-aae8-91b548c28b3d</td>\n",
       "      <td>G016</td>\n",
       "      <td>M</td>\n",
       "      <td>31.0</td>\n",
       "      <td>312.0</td>\n",
       "      <td>869000.0</td>\n",
       "      <td>0.68</td>\n",
       "      <td>172.41</td>\n",
       "      <td>930.0</td>\n",
       "      <td>234.0</td>\n",
       "      <td>1092.0</td>\n",
       "      <td>0</td>\n",
       "      <td>1</td>\n",
       "      <td>6</td>\n",
       "    </tr>\n",
       "    <tr>\n",
       "      <th>59999</th>\n",
       "      <td>423b5121-b5e9-4a2c-ab53-2c06c21baf62</td>\n",
       "      <td>G016</td>\n",
       "      <td>M</td>\n",
       "      <td>31.0</td>\n",
       "      <td>723.0</td>\n",
       "      <td>1896000.0</td>\n",
       "      <td>0.59</td>\n",
       "      <td>383.88</td>\n",
       "      <td>623.0</td>\n",
       "      <td>391.0</td>\n",
       "      <td>1283.0</td>\n",
       "      <td>0</td>\n",
       "      <td>1</td>\n",
       "      <td>6</td>\n",
       "    </tr>\n",
       "  </tbody>\n",
       "</table>\n",
       "<p>60000 rows × 14 columns</p>\n",
       "</div>"
      ],
      "text/plain": [
       "                                  system_id grade_sect_cd mbr_sex_cd  \\\n",
       "0      87ee0282-ece5-4491-bb07-be93854750ac          G011          M   \n",
       "1      8817ada1-b7ad-4713-b041-ee180540cb87          G011          M   \n",
       "2      884cddf4-bda5-4d81-960c-b9a4892645f0          G011          F   \n",
       "3      8a58832b-592b-4b33-b05e-0e11422d73d5          G011          M   \n",
       "4      8af8f516-a9f0-4b6a-a27f-fc77ba51f708          G011          M   \n",
       "...                                     ...           ...        ...   \n",
       "59995  3d97d2c6-50dd-4c12-9fee-01578d691b0d          G016          F   \n",
       "59996  41258431-f36d-46e7-a0d4-43f98edafd21          G016          M   \n",
       "59997  4157bf9d-92ea-4656-a2f6-9ac53ced8328          G016          F   \n",
       "59998  416c8ba3-330b-45fc-aae8-91b548c28b3d          G016          M   \n",
       "59999  423b5121-b5e9-4a2c-ab53-2c06c21baf62          G016          M   \n",
       "\n",
       "       tmon_pchrg_lrn_dcnt  acmlt_pchrg_lrn_dcnt  acmlt_bilclct_amt  \\\n",
       "0                     31.0                 247.0           952000.0   \n",
       "1                     31.0                 238.0          1071000.0   \n",
       "2                     31.0                  92.0           436000.0   \n",
       "3                     31.0                 370.0          1417000.0   \n",
       "4                      1.0                   1.0           109000.0   \n",
       "...                    ...                   ...                ...   \n",
       "59995                 31.0                 613.0          1180000.0   \n",
       "59996                 31.0                  62.0           178000.0   \n",
       "59997                 31.0                 217.0           872000.0   \n",
       "59998                 31.0                 312.0           869000.0   \n",
       "59999                 31.0                 723.0          1896000.0   \n",
       "\n",
       "       correct_rate_avg  learning_time_avg  media_action_cnt_sum  \\\n",
       "0                  0.59             670.48                 673.0   \n",
       "1                  0.00               0.00                   0.0   \n",
       "2                  0.70             400.44                1067.0   \n",
       "3                  0.81             914.47                 840.0   \n",
       "4                  0.00               0.00                   0.0   \n",
       "...                 ...                ...                   ...   \n",
       "59995              0.69             262.33                  41.0   \n",
       "59996              0.69             164.69                 429.0   \n",
       "59997              0.43             353.55                 853.0   \n",
       "59998              0.68             172.41                 930.0   \n",
       "59999              0.59             383.88                 623.0   \n",
       "\n",
       "       non_video_viewed_cnt_sum  get_mm_point_sum  label  re_purch  grade  \n",
       "0                         306.0            1377.0      0         0      1  \n",
       "1                           0.0               0.0      0         0      1  \n",
       "2                         468.0            6289.0      0         0      1  \n",
       "3                         212.0            1714.0      0         0      1  \n",
       "4                           0.0               0.0      0         0      1  \n",
       "...                         ...               ...    ...       ...    ...  \n",
       "59995                      26.0             590.0      0         1      6  \n",
       "59996                     187.0             812.0      0         1      6  \n",
       "59997                     417.0            3064.0      0         0      6  \n",
       "59998                     234.0            1092.0      0         1      6  \n",
       "59999                     391.0            1283.0      0         1      6  \n",
       "\n",
       "[60000 rows x 14 columns]"
      ]
     },
     "execution_count": 9,
     "metadata": {},
     "output_type": "execute_result"
    }
   ],
   "source": [
    "grade_dict = {'G011':1, 'G012':2, 'G013':3, 'G014':4, 'G015':5, 'G016':6}\n",
    "churn['grade'] = churn['grade_sect_cd'].apply(lambda x: grade_dict[x])\n",
    "churn"
   ]
  },
  {
   "cell_type": "code",
   "execution_count": 10,
   "metadata": {},
   "outputs": [],
   "source": [
    "# 컬럼 별 값 확인 (수치형)"
   ]
  },
  {
   "cell_type": "code",
   "execution_count": null,
   "metadata": {},
   "outputs": [],
   "source": [
    "import seaborn as sns\n",
    "sns.countplot(data = churn, x = 'grade', hue = 're_purch')\n",
    "plt.xticks(ticks = [0,1,2,3,4,5], labels = ['1', '2', '3' ,'4', '5', '6'])\n",
    "plt.ylabel('학생 수')\n",
    "plt.title('학년 별 구매, 재구매 여부')\n",
    "plt.show()"
   ]
  },
  {
   "cell_type": "code",
   "execution_count": null,
   "metadata": {},
   "outputs": [],
   "source": [
    "# 전반적인 분포도 확인\n",
    "import matplotlib.pyplot as plt\n",
    "#당월 유료학습일 수\n",
    "plt.hist(churn['tmon_pchrg_lrn_dcnt'], bins = 5)\n",
    "plt.show()"
   ]
  },
  {
   "cell_type": "code",
   "execution_count": null,
   "metadata": {},
   "outputs": [],
   "source": [
    "# 누적 유료학습일 수\n",
    "plt.hist(churn['acmlt_pchrg_lrn_dcnt'], bins = 50)\n",
    "plt.show()"
   ]
  },
  {
   "cell_type": "code",
   "execution_count": null,
   "metadata": {},
   "outputs": [],
   "source": [
    "#누적 수금액\n",
    "acm_bil  = churn['acmlt_bilclct_amt'].apply(lambda x: int(float(x)))\n",
    "plt.hist(churn['acmlt_bilclct_amt'], bins=100)\n",
    "plt.ticklabel_format(axis='x', style='plain', useOffset=False)\n",
    "plt.show()"
   ]
  },
  {
   "cell_type": "markdown",
   "metadata": {},
   "source": [
    "#### 3. 이탈예측 모델\n",
    "\n",
    "[데이터 - 컨셉]\n",
    "- 결과 : 이탈 or 미이탈\n",
    "- 학년 이력 : 전체 학년 통합 or 학년 별 분리\n",
    "- 구매, 재구매 이력: Feature 사용 or 모델 분리\n",
    "- 성별 이력 등등..\n",
    "\n",
    "[모델]\n",
    "- 데이터 처리 : DB 사용 -> SQL 처리\n",
    "- 모델 구현 (Logistic Regression, LGBM)\n",
    "- 실행부\n",
    "- 최적화 (Optimizing)"
   ]
  },
  {
   "cell_type": "markdown",
   "metadata": {},
   "source": [
    "##### 3-1 데이터 전처리"
   ]
  },
  {
   "cell_type": "code",
   "execution_count": 15,
   "metadata": {},
   "outputs": [],
   "source": [
    "# 데이터 읽어오기\n",
    "churn_df = pd.read_csv('./data/churn_data.csv')\n",
    "churn_df = churn_df.fillna(0)\n",
    "churn_df = churn_df.drop(columns= ['number'])\n",
    "churn_df[\"re_purch\"] = churn_df[\"re_purch\"].astype(int)"
   ]
  },
  {
   "cell_type": "code",
   "execution_count": 16,
   "metadata": {},
   "outputs": [],
   "source": [
    "# 학습 데이터, 레이블 (label) 분리\n",
    "from sklearn.model_selection import train_test_split\n",
    "# 'grade_sect_cd' 값 -> 1, 2, 3, 4, 5, 6 으로 치환 -> 'grade' 컬럼 구성\n",
    "grade_dict = {'G011':1, 'G012':2, 'G013':3, 'G014':4, 'G015':5, 'G016':6}\n",
    "churn_df['grade'] = churn_df['grade_sect_cd'].apply(lambda x: grade_dict[x])\n",
    "churn_df.head()\n",
    "\n",
    "# 필요 컬럼만 가져오기 (X : 학습 데이터, y: 레이블)\n",
    "\n",
    "# - grade_sect_cd: 학년 (1~6학년)\n",
    "# - tmon_pchrg_lrn_dcnt : 당월 유료 학습 일 수\n",
    "# - acmlt_pchrg_lrn_dcnt : 누적 유료 학습 일 수 (성숙도)\n",
    "# - acmlt_bilclct_amt: 누적 수금액\n",
    "# - correct_rate_avg: 당월 획득 점수 평균\n",
    "# - learning_time_avg: 당월 학습 시간 평균\n",
    "# - media_action_cnt_sum : 미디어 콘텐츠 내 동영상 행동 횟수 (총합)\n",
    "# - non_video_viewed_cnt_sum : 미디어 콘텐츠 미시청 행동 횟수 (총합)\n",
    "# - get_mm_point_sum : 당월 획득 포인트 합 (사용 x)\n",
    "\n",
    "X = churn_df[['grade','re_purch',\n",
    "'tmon_pchrg_lrn_dcnt', \n",
    "'acmlt_pchrg_lrn_dcnt', \n",
    "'acmlt_bilclct_amt', \n",
    "'correct_rate_avg',\n",
    "'learning_time_avg',\n",
    "'media_action_cnt_sum', \n",
    "'non_video_viewed_cnt_sum',\n",
    "'get_mm_point_sum']]\n",
    "\n",
    "y = churn_df['label']\n",
    "\n"
   ]
  },
  {
   "cell_type": "code",
   "execution_count": 17,
   "metadata": {},
   "outputs": [
    {
     "data": {
      "text/html": [
       "<div>\n",
       "<style scoped>\n",
       "    .dataframe tbody tr th:only-of-type {\n",
       "        vertical-align: middle;\n",
       "    }\n",
       "\n",
       "    .dataframe tbody tr th {\n",
       "        vertical-align: top;\n",
       "    }\n",
       "\n",
       "    .dataframe thead th {\n",
       "        text-align: right;\n",
       "    }\n",
       "</style>\n",
       "<table border=\"1\" class=\"dataframe\">\n",
       "  <thead>\n",
       "    <tr style=\"text-align: right;\">\n",
       "      <th></th>\n",
       "      <th>system_id</th>\n",
       "      <th>grade_sect_cd</th>\n",
       "      <th>mbr_sex_cd</th>\n",
       "      <th>tmon_pchrg_lrn_dcnt</th>\n",
       "      <th>acmlt_pchrg_lrn_dcnt</th>\n",
       "      <th>acmlt_bilclct_amt</th>\n",
       "      <th>correct_rate_avg</th>\n",
       "      <th>learning_time_avg</th>\n",
       "      <th>media_action_cnt_sum</th>\n",
       "      <th>non_video_viewed_cnt_sum</th>\n",
       "      <th>get_mm_point_sum</th>\n",
       "      <th>label</th>\n",
       "      <th>re_purch</th>\n",
       "      <th>grade</th>\n",
       "    </tr>\n",
       "  </thead>\n",
       "  <tbody>\n",
       "    <tr>\n",
       "      <th>0</th>\n",
       "      <td>87ee0282-ece5-4491-bb07-be93854750ac</td>\n",
       "      <td>G011</td>\n",
       "      <td>M</td>\n",
       "      <td>31.0</td>\n",
       "      <td>247.0</td>\n",
       "      <td>952000.0</td>\n",
       "      <td>0.59</td>\n",
       "      <td>670.48</td>\n",
       "      <td>673.0</td>\n",
       "      <td>306.0</td>\n",
       "      <td>1377.0</td>\n",
       "      <td>0</td>\n",
       "      <td>0</td>\n",
       "      <td>1</td>\n",
       "    </tr>\n",
       "    <tr>\n",
       "      <th>1</th>\n",
       "      <td>8817ada1-b7ad-4713-b041-ee180540cb87</td>\n",
       "      <td>G011</td>\n",
       "      <td>M</td>\n",
       "      <td>31.0</td>\n",
       "      <td>238.0</td>\n",
       "      <td>1071000.0</td>\n",
       "      <td>0.00</td>\n",
       "      <td>0.00</td>\n",
       "      <td>0.0</td>\n",
       "      <td>0.0</td>\n",
       "      <td>0.0</td>\n",
       "      <td>0</td>\n",
       "      <td>0</td>\n",
       "      <td>1</td>\n",
       "    </tr>\n",
       "    <tr>\n",
       "      <th>2</th>\n",
       "      <td>884cddf4-bda5-4d81-960c-b9a4892645f0</td>\n",
       "      <td>G011</td>\n",
       "      <td>F</td>\n",
       "      <td>31.0</td>\n",
       "      <td>92.0</td>\n",
       "      <td>436000.0</td>\n",
       "      <td>0.70</td>\n",
       "      <td>400.44</td>\n",
       "      <td>1067.0</td>\n",
       "      <td>468.0</td>\n",
       "      <td>6289.0</td>\n",
       "      <td>0</td>\n",
       "      <td>0</td>\n",
       "      <td>1</td>\n",
       "    </tr>\n",
       "    <tr>\n",
       "      <th>3</th>\n",
       "      <td>8a58832b-592b-4b33-b05e-0e11422d73d5</td>\n",
       "      <td>G011</td>\n",
       "      <td>M</td>\n",
       "      <td>31.0</td>\n",
       "      <td>370.0</td>\n",
       "      <td>1417000.0</td>\n",
       "      <td>0.81</td>\n",
       "      <td>914.47</td>\n",
       "      <td>840.0</td>\n",
       "      <td>212.0</td>\n",
       "      <td>1714.0</td>\n",
       "      <td>0</td>\n",
       "      <td>0</td>\n",
       "      <td>1</td>\n",
       "    </tr>\n",
       "    <tr>\n",
       "      <th>4</th>\n",
       "      <td>8af8f516-a9f0-4b6a-a27f-fc77ba51f708</td>\n",
       "      <td>G011</td>\n",
       "      <td>M</td>\n",
       "      <td>1.0</td>\n",
       "      <td>1.0</td>\n",
       "      <td>109000.0</td>\n",
       "      <td>0.00</td>\n",
       "      <td>0.00</td>\n",
       "      <td>0.0</td>\n",
       "      <td>0.0</td>\n",
       "      <td>0.0</td>\n",
       "      <td>0</td>\n",
       "      <td>0</td>\n",
       "      <td>1</td>\n",
       "    </tr>\n",
       "  </tbody>\n",
       "</table>\n",
       "</div>"
      ],
      "text/plain": [
       "                              system_id grade_sect_cd mbr_sex_cd  \\\n",
       "0  87ee0282-ece5-4491-bb07-be93854750ac          G011          M   \n",
       "1  8817ada1-b7ad-4713-b041-ee180540cb87          G011          M   \n",
       "2  884cddf4-bda5-4d81-960c-b9a4892645f0          G011          F   \n",
       "3  8a58832b-592b-4b33-b05e-0e11422d73d5          G011          M   \n",
       "4  8af8f516-a9f0-4b6a-a27f-fc77ba51f708          G011          M   \n",
       "\n",
       "   tmon_pchrg_lrn_dcnt  acmlt_pchrg_lrn_dcnt  acmlt_bilclct_amt  \\\n",
       "0                 31.0                 247.0           952000.0   \n",
       "1                 31.0                 238.0          1071000.0   \n",
       "2                 31.0                  92.0           436000.0   \n",
       "3                 31.0                 370.0          1417000.0   \n",
       "4                  1.0                   1.0           109000.0   \n",
       "\n",
       "   correct_rate_avg  learning_time_avg  media_action_cnt_sum  \\\n",
       "0              0.59             670.48                 673.0   \n",
       "1              0.00               0.00                   0.0   \n",
       "2              0.70             400.44                1067.0   \n",
       "3              0.81             914.47                 840.0   \n",
       "4              0.00               0.00                   0.0   \n",
       "\n",
       "   non_video_viewed_cnt_sum  get_mm_point_sum  label  re_purch  grade  \n",
       "0                     306.0            1377.0      0         0      1  \n",
       "1                       0.0               0.0      0         0      1  \n",
       "2                     468.0            6289.0      0         0      1  \n",
       "3                     212.0            1714.0      0         0      1  \n",
       "4                       0.0               0.0      0         0      1  "
      ]
     },
     "execution_count": 17,
     "metadata": {},
     "output_type": "execute_result"
    }
   ],
   "source": [
    "churn_df.head()"
   ]
  },
  {
   "cell_type": "code",
   "execution_count": null,
   "metadata": {},
   "outputs": [],
   "source": [
    "# Train, Test 데이터 분리 (이탈 미이탈 값 확인)\n",
    "from sklearn.model_selection import train_test_split\n",
    "\n",
    "target=churn_df['re_purch']\n",
    "\n",
    "X_train, X_test, y_train, y_test = train_test_split(X, y, test_size=0.2, random_state=42, shuffle=True, stratify=target)\n",
    "\n",
    "print('[Train] 전체 : {}, 이탈 : {}, 미이탈 : {}'.format(len(X_train), y_train[y_train == 1].shape[0], y_train[y_train==0].shape[0]))\n",
    "print('[Test] 전체 : {}, 이탈 : {}, 미이탈 : {}'.format(len(X_test), y_test[y_test == 1].shape[0], y_test[y_test==0].shape[0]))\n",
    "\n"
   ]
  },
  {
   "cell_type": "markdown",
   "metadata": {},
   "source": [
    "##### 3-2 Logistic regression 모델"
   ]
  },
  {
   "cell_type": "code",
   "execution_count": 19,
   "metadata": {},
   "outputs": [
    {
     "name": "stderr",
     "output_type": "stream",
     "text": [
      "C:\\Users\\big-03-06\\anaconda3\\lib\\site-packages\\sklearn\\linear_model\\_logistic.py:458: ConvergenceWarning: lbfgs failed to converge (status=1):\n",
      "STOP: TOTAL NO. of ITERATIONS REACHED LIMIT.\n",
      "\n",
      "Increase the number of iterations (max_iter) or scale the data as shown in:\n",
      "    https://scikit-learn.org/stable/modules/preprocessing.html\n",
      "Please also refer to the documentation for alternative solver options:\n",
      "    https://scikit-learn.org/stable/modules/linear_model.html#logistic-regression\n",
      "  n_iter_i = _check_optimize_result(\n"
     ]
    },
    {
     "data": {
      "text/html": [
       "<style>#sk-container-id-1 {color: black;background-color: white;}#sk-container-id-1 pre{padding: 0;}#sk-container-id-1 div.sk-toggleable {background-color: white;}#sk-container-id-1 label.sk-toggleable__label {cursor: pointer;display: block;width: 100%;margin-bottom: 0;padding: 0.3em;box-sizing: border-box;text-align: center;}#sk-container-id-1 label.sk-toggleable__label-arrow:before {content: \"▸\";float: left;margin-right: 0.25em;color: #696969;}#sk-container-id-1 label.sk-toggleable__label-arrow:hover:before {color: black;}#sk-container-id-1 div.sk-estimator:hover label.sk-toggleable__label-arrow:before {color: black;}#sk-container-id-1 div.sk-toggleable__content {max-height: 0;max-width: 0;overflow: hidden;text-align: left;background-color: #f0f8ff;}#sk-container-id-1 div.sk-toggleable__content pre {margin: 0.2em;color: black;border-radius: 0.25em;background-color: #f0f8ff;}#sk-container-id-1 input.sk-toggleable__control:checked~div.sk-toggleable__content {max-height: 200px;max-width: 100%;overflow: auto;}#sk-container-id-1 input.sk-toggleable__control:checked~label.sk-toggleable__label-arrow:before {content: \"▾\";}#sk-container-id-1 div.sk-estimator input.sk-toggleable__control:checked~label.sk-toggleable__label {background-color: #d4ebff;}#sk-container-id-1 div.sk-label input.sk-toggleable__control:checked~label.sk-toggleable__label {background-color: #d4ebff;}#sk-container-id-1 input.sk-hidden--visually {border: 0;clip: rect(1px 1px 1px 1px);clip: rect(1px, 1px, 1px, 1px);height: 1px;margin: -1px;overflow: hidden;padding: 0;position: absolute;width: 1px;}#sk-container-id-1 div.sk-estimator {font-family: monospace;background-color: #f0f8ff;border: 1px dotted black;border-radius: 0.25em;box-sizing: border-box;margin-bottom: 0.5em;}#sk-container-id-1 div.sk-estimator:hover {background-color: #d4ebff;}#sk-container-id-1 div.sk-parallel-item::after {content: \"\";width: 100%;border-bottom: 1px solid gray;flex-grow: 1;}#sk-container-id-1 div.sk-label:hover label.sk-toggleable__label {background-color: #d4ebff;}#sk-container-id-1 div.sk-serial::before {content: \"\";position: absolute;border-left: 1px solid gray;box-sizing: border-box;top: 0;bottom: 0;left: 50%;z-index: 0;}#sk-container-id-1 div.sk-serial {display: flex;flex-direction: column;align-items: center;background-color: white;padding-right: 0.2em;padding-left: 0.2em;position: relative;}#sk-container-id-1 div.sk-item {position: relative;z-index: 1;}#sk-container-id-1 div.sk-parallel {display: flex;align-items: stretch;justify-content: center;background-color: white;position: relative;}#sk-container-id-1 div.sk-item::before, #sk-container-id-1 div.sk-parallel-item::before {content: \"\";position: absolute;border-left: 1px solid gray;box-sizing: border-box;top: 0;bottom: 0;left: 50%;z-index: -1;}#sk-container-id-1 div.sk-parallel-item {display: flex;flex-direction: column;z-index: 1;position: relative;background-color: white;}#sk-container-id-1 div.sk-parallel-item:first-child::after {align-self: flex-end;width: 50%;}#sk-container-id-1 div.sk-parallel-item:last-child::after {align-self: flex-start;width: 50%;}#sk-container-id-1 div.sk-parallel-item:only-child::after {width: 0;}#sk-container-id-1 div.sk-dashed-wrapped {border: 1px dashed gray;margin: 0 0.4em 0.5em 0.4em;box-sizing: border-box;padding-bottom: 0.4em;background-color: white;}#sk-container-id-1 div.sk-label label {font-family: monospace;font-weight: bold;display: inline-block;line-height: 1.2em;}#sk-container-id-1 div.sk-label-container {text-align: center;}#sk-container-id-1 div.sk-container {/* jupyter's `normalize.less` sets `[hidden] { display: none; }` but bootstrap.min.css set `[hidden] { display: none !important; }` so we also need the `!important` here to be able to override the default hidden behavior on the sphinx rendered scikit-learn.org. See: https://github.com/scikit-learn/scikit-learn/issues/21755 */display: inline-block !important;position: relative;}#sk-container-id-1 div.sk-text-repr-fallback {display: none;}</style><div id=\"sk-container-id-1\" class=\"sk-top-container\"><div class=\"sk-text-repr-fallback\"><pre>LogisticRegression(random_state=0)</pre><b>In a Jupyter environment, please rerun this cell to show the HTML representation or trust the notebook. <br />On GitHub, the HTML representation is unable to render, please try loading this page with nbviewer.org.</b></div><div class=\"sk-container\" hidden><div class=\"sk-item\"><div class=\"sk-estimator sk-toggleable\"><input class=\"sk-toggleable__control sk-hidden--visually\" id=\"sk-estimator-id-1\" type=\"checkbox\" checked><label for=\"sk-estimator-id-1\" class=\"sk-toggleable__label sk-toggleable__label-arrow\">LogisticRegression</label><div class=\"sk-toggleable__content\"><pre>LogisticRegression(random_state=0)</pre></div></div></div></div></div>"
      ],
      "text/plain": [
       "LogisticRegression(random_state=0)"
      ]
     },
     "execution_count": 19,
     "metadata": {},
     "output_type": "execute_result"
    }
   ],
   "source": [
    "from sklearn.linear_model import LogisticRegression\n",
    "# Logistic 모델 학습\n",
    "log_model = LogisticRegression(random_state=0)\n",
    "log_model.fit(X_train, y_train)"
   ]
  },
  {
   "cell_type": "code",
   "execution_count": 20,
   "metadata": {},
   "outputs": [
    {
     "name": "stdout",
     "output_type": "stream",
     "text": [
      "[Predict] 이탈 : 47, 미이탈 : 11953\n"
     ]
    }
   ],
   "source": [
    "# 예측 및 결과\n",
    "y_pred = log_model.predict(X_test)\n",
    "y_pred = list(y_pred)\n",
    "print('[Predict] 이탈 : {}, 미이탈 : {}'.format(y_pred.count(1), y_pred.count(0)))"
   ]
  },
  {
   "cell_type": "code",
   "execution_count": 21,
   "metadata": {},
   "outputs": [
    {
     "data": {
      "text/plain": [
       "0.9821875"
      ]
     },
     "execution_count": 21,
     "metadata": {},
     "output_type": "execute_result"
    }
   ],
   "source": [
    "# 예측 데이터와 실제 데이터의 차이 살펴보기 (True or False)\n",
    "log_model.score(X_train, y_train)"
   ]
  },
  {
   "cell_type": "code",
   "execution_count": 22,
   "metadata": {},
   "outputs": [
    {
     "data": {
      "text/plain": [
       "0.9815833333333334"
      ]
     },
     "execution_count": 22,
     "metadata": {},
     "output_type": "execute_result"
    }
   ],
   "source": [
    "# Accuracy 측정\n",
    "from sklearn.metrics import accuracy_score\n",
    "accuracy_score(y_test, y_pred)"
   ]
  },
  {
   "cell_type": "code",
   "execution_count": 23,
   "metadata": {},
   "outputs": [
    {
     "data": {
      "text/plain": [
       "(0.2127659574468085, 0.05154639175257732, 0.08298755186721991, None)"
      ]
     },
     "execution_count": 23,
     "metadata": {},
     "output_type": "execute_result"
    }
   ],
   "source": [
    "# precision, recall, f1 score 측정\n",
    "from sklearn.metrics import precision_recall_fscore_support\n",
    "precision_recall_fscore_support(y_test, y_pred, average='binary')"
   ]
  },
  {
   "cell_type": "markdown",
   "metadata": {},
   "source": [
    "##### 3-3 LGBM 모델"
   ]
  },
  {
   "cell_type": "code",
   "execution_count": 24,
   "metadata": {},
   "outputs": [],
   "source": [
    "# Train, Test 데이터 분리\n",
    "from sklearn.model_selection import train_test_split\n",
    "X_train, X_test, y_train, y_test = train_test_split(X, y, test_size=0.2, random_state=42, shuffle=True, stratify=target)"
   ]
  },
  {
   "cell_type": "code",
   "execution_count": 25,
   "metadata": {},
   "outputs": [
    {
     "name": "stdout",
     "output_type": "stream",
     "text": [
      "[LightGBM] [Info] Number of positive: 738, number of negative: 47262\n",
      "[LightGBM] [Warning] Auto-choosing row-wise multi-threading, the overhead of testing was 0.000731 seconds.\n",
      "You can set `force_row_wise=true` to remove the overhead.\n",
      "And if memory is not enough, you can set `force_col_wise=true`.\n",
      "[LightGBM] [Info] Total Bins 1654\n",
      "[LightGBM] [Info] Number of data points in the train set: 48000, number of used features: 10\n",
      "[LightGBM] [Info] [binary:BoostFromScore]: pavg=0.015375 -> initscore=-4.159518\n",
      "[LightGBM] [Info] Start training from score -4.159518\n",
      "[Predict] 이탈 : 181, 미이탈 : 11819\n"
     ]
    }
   ],
   "source": [
    "# LGBM 모델 학습\n",
    "from lightgbm import LGBMClassifier\n",
    "lgbm_model = LGBMClassifier(random_state=0)\n",
    "lgbm_model.fit(X_train, y_train)\n",
    "# 예측 결과\n",
    "y_pred = lgbm_model.predict(X_test)\n",
    "y_pred = list(y_pred)\n",
    "print('[Predict] 이탈 : {}, 미이탈 : {}'.format(y_pred.count(1), y_pred.count(0)))"
   ]
  },
  {
   "cell_type": "code",
   "execution_count": 26,
   "metadata": {},
   "outputs": [
    {
     "data": {
      "text/plain": [
       "0.9950833333333333"
      ]
     },
     "execution_count": 26,
     "metadata": {},
     "output_type": "execute_result"
    }
   ],
   "source": [
    "# Accuracy 측정\n",
    "from sklearn.metrics import accuracy_score\n",
    "accuracy_score(y_test, y_pred)"
   ]
  },
  {
   "cell_type": "code",
   "execution_count": 27,
   "metadata": {},
   "outputs": [
    {
     "data": {
      "text/plain": [
       "(0.8729281767955801, 0.8144329896907216, 0.8426666666666666, None)"
      ]
     },
     "execution_count": 27,
     "metadata": {},
     "output_type": "execute_result"
    }
   ],
   "source": [
    "# precision, recall, f1 score 측정\n",
    "from sklearn.metrics import precision_recall_fscore_support\n",
    "precision_recall_fscore_support(y_test, y_pred, average='binary')"
   ]
  },
  {
   "cell_type": "code",
   "execution_count": 28,
   "metadata": {},
   "outputs": [],
   "source": [
    "# Logistic LGBM precision, recall, f1 score 비교"
   ]
  },
  {
   "cell_type": "code",
   "execution_count": null,
   "metadata": {},
   "outputs": [],
   "source": [
    "# 영향도 (주요 변수 시각화)\n",
    "from lightgbm import plot_importance\n",
    "import matplotlib.pyplot as plt\n",
    "%matplotlib inline\n",
    "\n",
    "fig, ax = plt.subplots(figsize=(5,5))\n",
    "plot_importance(lgbm_model, ax=ax)"
   ]
  },
  {
   "cell_type": "markdown",
   "metadata": {},
   "source": [
    "### 학년별 이탈 예측 모델을 구성해본 뒤, 성능 결과를 확인해 보자"
   ]
  },
  {
   "cell_type": "code",
   "execution_count": 30,
   "metadata": {},
   "outputs": [
    {
     "data": {
      "text/html": [
       "<div>\n",
       "<style scoped>\n",
       "    .dataframe tbody tr th:only-of-type {\n",
       "        vertical-align: middle;\n",
       "    }\n",
       "\n",
       "    .dataframe tbody tr th {\n",
       "        vertical-align: top;\n",
       "    }\n",
       "\n",
       "    .dataframe thead th {\n",
       "        text-align: right;\n",
       "    }\n",
       "</style>\n",
       "<table border=\"1\" class=\"dataframe\">\n",
       "  <thead>\n",
       "    <tr style=\"text-align: right;\">\n",
       "      <th></th>\n",
       "      <th>system_id</th>\n",
       "      <th>grade_sect_cd</th>\n",
       "      <th>mbr_sex_cd</th>\n",
       "      <th>tmon_pchrg_lrn_dcnt</th>\n",
       "      <th>acmlt_pchrg_lrn_dcnt</th>\n",
       "      <th>acmlt_bilclct_amt</th>\n",
       "      <th>correct_rate_avg</th>\n",
       "      <th>learning_time_avg</th>\n",
       "      <th>media_action_cnt_sum</th>\n",
       "      <th>non_video_viewed_cnt_sum</th>\n",
       "      <th>get_mm_point_sum</th>\n",
       "      <th>label</th>\n",
       "      <th>re_purch</th>\n",
       "    </tr>\n",
       "  </thead>\n",
       "  <tbody>\n",
       "    <tr>\n",
       "      <th>0</th>\n",
       "      <td>87ee0282-ece5-4491-bb07-be93854750ac</td>\n",
       "      <td>G011</td>\n",
       "      <td>M</td>\n",
       "      <td>31.0</td>\n",
       "      <td>247.0</td>\n",
       "      <td>952000.0</td>\n",
       "      <td>0.59</td>\n",
       "      <td>670.48</td>\n",
       "      <td>673.0</td>\n",
       "      <td>306.0</td>\n",
       "      <td>1377.0</td>\n",
       "      <td>0</td>\n",
       "      <td>0</td>\n",
       "    </tr>\n",
       "    <tr>\n",
       "      <th>1</th>\n",
       "      <td>8817ada1-b7ad-4713-b041-ee180540cb87</td>\n",
       "      <td>G011</td>\n",
       "      <td>M</td>\n",
       "      <td>31.0</td>\n",
       "      <td>238.0</td>\n",
       "      <td>1071000.0</td>\n",
       "      <td>0.00</td>\n",
       "      <td>0.00</td>\n",
       "      <td>0.0</td>\n",
       "      <td>0.0</td>\n",
       "      <td>0.0</td>\n",
       "      <td>0</td>\n",
       "      <td>0</td>\n",
       "    </tr>\n",
       "    <tr>\n",
       "      <th>2</th>\n",
       "      <td>884cddf4-bda5-4d81-960c-b9a4892645f0</td>\n",
       "      <td>G011</td>\n",
       "      <td>F</td>\n",
       "      <td>31.0</td>\n",
       "      <td>92.0</td>\n",
       "      <td>436000.0</td>\n",
       "      <td>0.70</td>\n",
       "      <td>400.44</td>\n",
       "      <td>1067.0</td>\n",
       "      <td>468.0</td>\n",
       "      <td>6289.0</td>\n",
       "      <td>0</td>\n",
       "      <td>0</td>\n",
       "    </tr>\n",
       "    <tr>\n",
       "      <th>3</th>\n",
       "      <td>8a58832b-592b-4b33-b05e-0e11422d73d5</td>\n",
       "      <td>G011</td>\n",
       "      <td>M</td>\n",
       "      <td>31.0</td>\n",
       "      <td>370.0</td>\n",
       "      <td>1417000.0</td>\n",
       "      <td>0.81</td>\n",
       "      <td>914.47</td>\n",
       "      <td>840.0</td>\n",
       "      <td>212.0</td>\n",
       "      <td>1714.0</td>\n",
       "      <td>0</td>\n",
       "      <td>0</td>\n",
       "    </tr>\n",
       "    <tr>\n",
       "      <th>4</th>\n",
       "      <td>8af8f516-a9f0-4b6a-a27f-fc77ba51f708</td>\n",
       "      <td>G011</td>\n",
       "      <td>M</td>\n",
       "      <td>1.0</td>\n",
       "      <td>1.0</td>\n",
       "      <td>109000.0</td>\n",
       "      <td>0.00</td>\n",
       "      <td>0.00</td>\n",
       "      <td>0.0</td>\n",
       "      <td>0.0</td>\n",
       "      <td>0.0</td>\n",
       "      <td>0</td>\n",
       "      <td>0</td>\n",
       "    </tr>\n",
       "  </tbody>\n",
       "</table>\n",
       "</div>"
      ],
      "text/plain": [
       "                              system_id grade_sect_cd mbr_sex_cd  \\\n",
       "0  87ee0282-ece5-4491-bb07-be93854750ac          G011          M   \n",
       "1  8817ada1-b7ad-4713-b041-ee180540cb87          G011          M   \n",
       "2  884cddf4-bda5-4d81-960c-b9a4892645f0          G011          F   \n",
       "3  8a58832b-592b-4b33-b05e-0e11422d73d5          G011          M   \n",
       "4  8af8f516-a9f0-4b6a-a27f-fc77ba51f708          G011          M   \n",
       "\n",
       "   tmon_pchrg_lrn_dcnt  acmlt_pchrg_lrn_dcnt  acmlt_bilclct_amt  \\\n",
       "0                 31.0                 247.0           952000.0   \n",
       "1                 31.0                 238.0          1071000.0   \n",
       "2                 31.0                  92.0           436000.0   \n",
       "3                 31.0                 370.0          1417000.0   \n",
       "4                  1.0                   1.0           109000.0   \n",
       "\n",
       "   correct_rate_avg  learning_time_avg  media_action_cnt_sum  \\\n",
       "0              0.59             670.48                 673.0   \n",
       "1              0.00               0.00                   0.0   \n",
       "2              0.70             400.44                1067.0   \n",
       "3              0.81             914.47                 840.0   \n",
       "4              0.00               0.00                   0.0   \n",
       "\n",
       "   non_video_viewed_cnt_sum  get_mm_point_sum  label  re_purch  \n",
       "0                     306.0            1377.0      0         0  \n",
       "1                       0.0               0.0      0         0  \n",
       "2                     468.0            6289.0      0         0  \n",
       "3                     212.0            1714.0      0         0  \n",
       "4                       0.0               0.0      0         0  "
      ]
     },
     "execution_count": 30,
     "metadata": {},
     "output_type": "execute_result"
    }
   ],
   "source": [
    "# 데이터 읽어오기\n",
    "import pandas as pd\n",
    "churn_data = pd.read_csv('./data/churn_data.csv')\n",
    "churn_data = churn_data.fillna(0)\n",
    "churn_data = churn_data.drop(columns= ['number'])\n",
    "churn_data[\"re_purch\"] = churn_data[\"re_purch\"].astype(int)\n",
    "churn_data.head()"
   ]
  },
  {
   "cell_type": "code",
   "execution_count": 31,
   "metadata": {},
   "outputs": [
    {
     "data": {
      "text/html": [
       "<div>\n",
       "<style scoped>\n",
       "    .dataframe tbody tr th:only-of-type {\n",
       "        vertical-align: middle;\n",
       "    }\n",
       "\n",
       "    .dataframe tbody tr th {\n",
       "        vertical-align: top;\n",
       "    }\n",
       "\n",
       "    .dataframe thead th {\n",
       "        text-align: right;\n",
       "    }\n",
       "</style>\n",
       "<table border=\"1\" class=\"dataframe\">\n",
       "  <thead>\n",
       "    <tr style=\"text-align: right;\">\n",
       "      <th></th>\n",
       "      <th>system_id</th>\n",
       "      <th>grade_sect_cd</th>\n",
       "      <th>mbr_sex_cd</th>\n",
       "      <th>tmon_pchrg_lrn_dcnt</th>\n",
       "      <th>acmlt_pchrg_lrn_dcnt</th>\n",
       "      <th>acmlt_bilclct_amt</th>\n",
       "      <th>correct_rate_avg</th>\n",
       "      <th>learning_time_avg</th>\n",
       "      <th>media_action_cnt_sum</th>\n",
       "      <th>non_video_viewed_cnt_sum</th>\n",
       "      <th>get_mm_point_sum</th>\n",
       "      <th>label</th>\n",
       "      <th>re_purch</th>\n",
       "      <th>grade</th>\n",
       "    </tr>\n",
       "  </thead>\n",
       "  <tbody>\n",
       "    <tr>\n",
       "      <th>0</th>\n",
       "      <td>87ee0282-ece5-4491-bb07-be93854750ac</td>\n",
       "      <td>G011</td>\n",
       "      <td>M</td>\n",
       "      <td>31.0</td>\n",
       "      <td>247.0</td>\n",
       "      <td>952000.0</td>\n",
       "      <td>0.59</td>\n",
       "      <td>670.48</td>\n",
       "      <td>673.0</td>\n",
       "      <td>306.0</td>\n",
       "      <td>1377.0</td>\n",
       "      <td>0</td>\n",
       "      <td>0</td>\n",
       "      <td>1</td>\n",
       "    </tr>\n",
       "    <tr>\n",
       "      <th>1</th>\n",
       "      <td>8817ada1-b7ad-4713-b041-ee180540cb87</td>\n",
       "      <td>G011</td>\n",
       "      <td>M</td>\n",
       "      <td>31.0</td>\n",
       "      <td>238.0</td>\n",
       "      <td>1071000.0</td>\n",
       "      <td>0.00</td>\n",
       "      <td>0.00</td>\n",
       "      <td>0.0</td>\n",
       "      <td>0.0</td>\n",
       "      <td>0.0</td>\n",
       "      <td>0</td>\n",
       "      <td>0</td>\n",
       "      <td>1</td>\n",
       "    </tr>\n",
       "    <tr>\n",
       "      <th>2</th>\n",
       "      <td>884cddf4-bda5-4d81-960c-b9a4892645f0</td>\n",
       "      <td>G011</td>\n",
       "      <td>F</td>\n",
       "      <td>31.0</td>\n",
       "      <td>92.0</td>\n",
       "      <td>436000.0</td>\n",
       "      <td>0.70</td>\n",
       "      <td>400.44</td>\n",
       "      <td>1067.0</td>\n",
       "      <td>468.0</td>\n",
       "      <td>6289.0</td>\n",
       "      <td>0</td>\n",
       "      <td>0</td>\n",
       "      <td>1</td>\n",
       "    </tr>\n",
       "    <tr>\n",
       "      <th>3</th>\n",
       "      <td>8a58832b-592b-4b33-b05e-0e11422d73d5</td>\n",
       "      <td>G011</td>\n",
       "      <td>M</td>\n",
       "      <td>31.0</td>\n",
       "      <td>370.0</td>\n",
       "      <td>1417000.0</td>\n",
       "      <td>0.81</td>\n",
       "      <td>914.47</td>\n",
       "      <td>840.0</td>\n",
       "      <td>212.0</td>\n",
       "      <td>1714.0</td>\n",
       "      <td>0</td>\n",
       "      <td>0</td>\n",
       "      <td>1</td>\n",
       "    </tr>\n",
       "    <tr>\n",
       "      <th>4</th>\n",
       "      <td>8af8f516-a9f0-4b6a-a27f-fc77ba51f708</td>\n",
       "      <td>G011</td>\n",
       "      <td>M</td>\n",
       "      <td>1.0</td>\n",
       "      <td>1.0</td>\n",
       "      <td>109000.0</td>\n",
       "      <td>0.00</td>\n",
       "      <td>0.00</td>\n",
       "      <td>0.0</td>\n",
       "      <td>0.0</td>\n",
       "      <td>0.0</td>\n",
       "      <td>0</td>\n",
       "      <td>0</td>\n",
       "      <td>1</td>\n",
       "    </tr>\n",
       "  </tbody>\n",
       "</table>\n",
       "</div>"
      ],
      "text/plain": [
       "                              system_id grade_sect_cd mbr_sex_cd  \\\n",
       "0  87ee0282-ece5-4491-bb07-be93854750ac          G011          M   \n",
       "1  8817ada1-b7ad-4713-b041-ee180540cb87          G011          M   \n",
       "2  884cddf4-bda5-4d81-960c-b9a4892645f0          G011          F   \n",
       "3  8a58832b-592b-4b33-b05e-0e11422d73d5          G011          M   \n",
       "4  8af8f516-a9f0-4b6a-a27f-fc77ba51f708          G011          M   \n",
       "\n",
       "   tmon_pchrg_lrn_dcnt  acmlt_pchrg_lrn_dcnt  acmlt_bilclct_amt  \\\n",
       "0                 31.0                 247.0           952000.0   \n",
       "1                 31.0                 238.0          1071000.0   \n",
       "2                 31.0                  92.0           436000.0   \n",
       "3                 31.0                 370.0          1417000.0   \n",
       "4                  1.0                   1.0           109000.0   \n",
       "\n",
       "   correct_rate_avg  learning_time_avg  media_action_cnt_sum  \\\n",
       "0              0.59             670.48                 673.0   \n",
       "1              0.00               0.00                   0.0   \n",
       "2              0.70             400.44                1067.0   \n",
       "3              0.81             914.47                 840.0   \n",
       "4              0.00               0.00                   0.0   \n",
       "\n",
       "   non_video_viewed_cnt_sum  get_mm_point_sum  label  re_purch  grade  \n",
       "0                     306.0            1377.0      0         0      1  \n",
       "1                       0.0               0.0      0         0      1  \n",
       "2                     468.0            6289.0      0         0      1  \n",
       "3                     212.0            1714.0      0         0      1  \n",
       "4                       0.0               0.0      0         0      1  "
      ]
     },
     "execution_count": 31,
     "metadata": {},
     "output_type": "execute_result"
    }
   ],
   "source": [
    "# 학년 치환 (숫자로)\n",
    "# 'grade_sect_cd' 값 -> 1, 2, 3, 4, 5, 6 으로 치환 -> 'grade' 컬럼 구성\n",
    "grade_dict = {'G011':1, 'G012':2, 'G013':3, 'G014':4, 'G015':5, 'G016':6}\n",
    "churn_data['grade'] = churn_data['grade_sect_cd'].apply(lambda x: grade_dict[x])\n",
    "churn_data.head()"
   ]
  },
  {
   "cell_type": "code",
   "execution_count": 32,
   "metadata": {},
   "outputs": [],
   "source": [
    "from sklearn.tree import DecisionTreeClassifier\n",
    "from sklearn.model_selection import train_test_split\n",
    "from lightgbm import LGBMClassifier\n",
    "from sklearn.metrics import accuracy_score\n",
    "from lightgbm import plot_importance\n",
    "import matplotlib.pyplot as plt\n",
    "import koreanize_matplotlib\n",
    "from imblearn.over_sampling import SMOTE\n",
    "import sklearn"
   ]
  },
  {
   "cell_type": "code",
   "execution_count": 33,
   "metadata": {},
   "outputs": [],
   "source": [
    "# 모델 구성\n",
    "def churn_model(grade_df, grade_name='6'):\n",
    "    \n",
    "    X = grade_df[['re_purch', 'tmon_pchrg_lrn_dcnt', 'acmlt_pchrg_lrn_dcnt', 'acmlt_bilclct_amt', 'correct_rate_avg','learning_time_avg','media_action_cnt_sum', 'non_video_viewed_cnt_sum','get_mm_point_sum']]\n",
    "    y = grade_df['label']\n",
    "\n",
    "    #Train, Test 데이터 분리(이탈, 미이탈 값 확인)\n",
    "    X_train, X_test, y_train, y_test = train_test_split(X, y, test_size=0.2, random_state=42, shuffle=True)\n",
    "    smote = SMOTE(random_state=42)\n",
    "    X, y = smote.fit_resample(X_train, y_train)\n",
    "    \n",
    "    print('[Train] {} 학년, 이탈 : {}, 미이탈 : {}'.format(grade_name, len(X_train), y_train[y_train == 1].shape[0], y_train[y_train==0].shape[0]))\n",
    "    print('[Test] {} 학년, 이탈 : {}, 미이탈 : {}'.format(grade_name,len(X_test), y_test[y_test == 1].shape[0], y_test[y_test==0].shape[0]))\n",
    "    \n",
    "\n",
    "    # LGBM 모델 학습\n",
    "    lgbm_model = LGBMClassifier(random_state=0, verbose=-1)\n",
    "    lgbm_model.fit(X_train, y_train)\n",
    "    \n",
    "    \n",
    "    # 예측결과\n",
    "    y_pred = lgbm_model.predict(X_test)\n",
    "    y_pred = list(y_pred)\n",
    "    print('[Predict] {} 학년, 이탈 : {}, 미이탈 : {}'.format(grade_name, y_pred.count(1), y_pred.count(0)))\n",
    "    \n",
    "    #Accuracy\n",
    "    acc = accuracy_score(y_test, y_pred)\n",
    "    \n",
    "    # Precision, recall, f1\n",
    "    pre, re, f1, _ = precision_recall_fscore_support(y_test, y_pred, average='binary')\n",
    "    \n",
    "    print(\"{} 학년, acc: {}, precision: {}, recall: {}, f1: {}\".format(grade_name, acc, pre, re, f1))\n",
    "    \n",
    "    fig, ax = plt.subplots(figsize=(5,5))\n",
    "    plot_importance(lgbm_model, ax=ax)\n",
    "    plt.title('{} 학년 Feature Importance'.format(grade_name))\n",
    "    plt.show()\n",
    "    return"
   ]
  },
  {
   "cell_type": "code",
   "execution_count": null,
   "metadata": {},
   "outputs": [],
   "source": [
    "# 실행부 구성\n",
    "for grade in range(1,7):\n",
    "    grade_df=churn_data[churn_data['grade'] == grade]\n",
    "    churn_model(grade_df, grade_name = str(grade))"
   ]
  },
  {
   "cell_type": "markdown",
   "metadata": {},
   "source": [
    "#### 4. 성능 지표 (Confusion Matrix) : Precision, Recall, F1 score"
   ]
  },
  {
   "cell_type": "code",
   "execution_count": 35,
   "metadata": {},
   "outputs": [
    {
     "data": {
      "text/html": [
       "<div>\n",
       "<style scoped>\n",
       "    .dataframe tbody tr th:only-of-type {\n",
       "        vertical-align: middle;\n",
       "    }\n",
       "\n",
       "    .dataframe tbody tr th {\n",
       "        vertical-align: top;\n",
       "    }\n",
       "\n",
       "    .dataframe thead th {\n",
       "        text-align: right;\n",
       "    }\n",
       "</style>\n",
       "<table border=\"1\" class=\"dataframe\">\n",
       "  <thead>\n",
       "    <tr style=\"text-align: right;\">\n",
       "      <th></th>\n",
       "      <th>system_id</th>\n",
       "      <th>grade_sect_cd</th>\n",
       "      <th>mbr_sex_cd</th>\n",
       "      <th>tmon_pchrg_lrn_dcnt</th>\n",
       "      <th>acmlt_pchrg_lrn_dcnt</th>\n",
       "      <th>acmlt_bilclct_amt</th>\n",
       "      <th>correct_rate_avg</th>\n",
       "      <th>learning_time_avg</th>\n",
       "      <th>media_action_cnt_sum</th>\n",
       "      <th>non_video_viewed_cnt_sum</th>\n",
       "      <th>get_mm_point_sum</th>\n",
       "      <th>label</th>\n",
       "      <th>re_purch</th>\n",
       "      <th>grade</th>\n",
       "    </tr>\n",
       "  </thead>\n",
       "  <tbody>\n",
       "    <tr>\n",
       "      <th>0</th>\n",
       "      <td>87ee0282-ece5-4491-bb07-be93854750ac</td>\n",
       "      <td>G011</td>\n",
       "      <td>M</td>\n",
       "      <td>31.0</td>\n",
       "      <td>247.0</td>\n",
       "      <td>952000.0</td>\n",
       "      <td>0.59</td>\n",
       "      <td>670.48</td>\n",
       "      <td>673.0</td>\n",
       "      <td>306.0</td>\n",
       "      <td>1377.0</td>\n",
       "      <td>0</td>\n",
       "      <td>0</td>\n",
       "      <td>1</td>\n",
       "    </tr>\n",
       "    <tr>\n",
       "      <th>1</th>\n",
       "      <td>8817ada1-b7ad-4713-b041-ee180540cb87</td>\n",
       "      <td>G011</td>\n",
       "      <td>M</td>\n",
       "      <td>31.0</td>\n",
       "      <td>238.0</td>\n",
       "      <td>1071000.0</td>\n",
       "      <td>0.00</td>\n",
       "      <td>0.00</td>\n",
       "      <td>0.0</td>\n",
       "      <td>0.0</td>\n",
       "      <td>0.0</td>\n",
       "      <td>0</td>\n",
       "      <td>0</td>\n",
       "      <td>1</td>\n",
       "    </tr>\n",
       "    <tr>\n",
       "      <th>2</th>\n",
       "      <td>884cddf4-bda5-4d81-960c-b9a4892645f0</td>\n",
       "      <td>G011</td>\n",
       "      <td>F</td>\n",
       "      <td>31.0</td>\n",
       "      <td>92.0</td>\n",
       "      <td>436000.0</td>\n",
       "      <td>0.70</td>\n",
       "      <td>400.44</td>\n",
       "      <td>1067.0</td>\n",
       "      <td>468.0</td>\n",
       "      <td>6289.0</td>\n",
       "      <td>0</td>\n",
       "      <td>0</td>\n",
       "      <td>1</td>\n",
       "    </tr>\n",
       "    <tr>\n",
       "      <th>3</th>\n",
       "      <td>8a58832b-592b-4b33-b05e-0e11422d73d5</td>\n",
       "      <td>G011</td>\n",
       "      <td>M</td>\n",
       "      <td>31.0</td>\n",
       "      <td>370.0</td>\n",
       "      <td>1417000.0</td>\n",
       "      <td>0.81</td>\n",
       "      <td>914.47</td>\n",
       "      <td>840.0</td>\n",
       "      <td>212.0</td>\n",
       "      <td>1714.0</td>\n",
       "      <td>0</td>\n",
       "      <td>0</td>\n",
       "      <td>1</td>\n",
       "    </tr>\n",
       "    <tr>\n",
       "      <th>4</th>\n",
       "      <td>8af8f516-a9f0-4b6a-a27f-fc77ba51f708</td>\n",
       "      <td>G011</td>\n",
       "      <td>M</td>\n",
       "      <td>1.0</td>\n",
       "      <td>1.0</td>\n",
       "      <td>109000.0</td>\n",
       "      <td>0.00</td>\n",
       "      <td>0.00</td>\n",
       "      <td>0.0</td>\n",
       "      <td>0.0</td>\n",
       "      <td>0.0</td>\n",
       "      <td>0</td>\n",
       "      <td>0</td>\n",
       "      <td>1</td>\n",
       "    </tr>\n",
       "  </tbody>\n",
       "</table>\n",
       "</div>"
      ],
      "text/plain": [
       "                              system_id grade_sect_cd mbr_sex_cd  \\\n",
       "0  87ee0282-ece5-4491-bb07-be93854750ac          G011          M   \n",
       "1  8817ada1-b7ad-4713-b041-ee180540cb87          G011          M   \n",
       "2  884cddf4-bda5-4d81-960c-b9a4892645f0          G011          F   \n",
       "3  8a58832b-592b-4b33-b05e-0e11422d73d5          G011          M   \n",
       "4  8af8f516-a9f0-4b6a-a27f-fc77ba51f708          G011          M   \n",
       "\n",
       "   tmon_pchrg_lrn_dcnt  acmlt_pchrg_lrn_dcnt  acmlt_bilclct_amt  \\\n",
       "0                 31.0                 247.0           952000.0   \n",
       "1                 31.0                 238.0          1071000.0   \n",
       "2                 31.0                  92.0           436000.0   \n",
       "3                 31.0                 370.0          1417000.0   \n",
       "4                  1.0                   1.0           109000.0   \n",
       "\n",
       "   correct_rate_avg  learning_time_avg  media_action_cnt_sum  \\\n",
       "0              0.59             670.48                 673.0   \n",
       "1              0.00               0.00                   0.0   \n",
       "2              0.70             400.44                1067.0   \n",
       "3              0.81             914.47                 840.0   \n",
       "4              0.00               0.00                   0.0   \n",
       "\n",
       "   non_video_viewed_cnt_sum  get_mm_point_sum  label  re_purch  grade  \n",
       "0                     306.0            1377.0      0         0      1  \n",
       "1                       0.0               0.0      0         0      1  \n",
       "2                     468.0            6289.0      0         0      1  \n",
       "3                     212.0            1714.0      0         0      1  \n",
       "4                       0.0               0.0      0         0      1  "
      ]
     },
     "execution_count": 35,
     "metadata": {},
     "output_type": "execute_result"
    }
   ],
   "source": [
    "# 데이터 읽어오기\n",
    "import pandas as pd\n",
    "churn_data= pd.read_csv('./data/churn_data.csv')\n",
    "churn_data = churn_data.fillna(0)\n",
    "churn_data = churn_data.drop(columns= ['number'])\n",
    "churn_data[\"re_purch\"] = churn_data[\"re_purch\"].astype(int)\n",
    "# 학년 치환 (숫자로)\n",
    "# 'grade_sect_cd' 값 -> 1, 2, 3, 4, 5, 6 으로 치환 -> 'grade' 컬럼 구성\n",
    "grade_dict = {'G011':1, 'G012':2, 'G013':3, 'G014':4, 'G015':5, 'G016':6}\n",
    "churn_data['grade'] = churn_data['grade_sect_cd'].apply(lambda x: grade_dict[x])\n",
    "churn_data.head()"
   ]
  },
  {
   "cell_type": "code",
   "execution_count": 36,
   "metadata": {},
   "outputs": [
    {
     "data": {
      "text/html": [
       "<style>#sk-container-id-2 {color: black;background-color: white;}#sk-container-id-2 pre{padding: 0;}#sk-container-id-2 div.sk-toggleable {background-color: white;}#sk-container-id-2 label.sk-toggleable__label {cursor: pointer;display: block;width: 100%;margin-bottom: 0;padding: 0.3em;box-sizing: border-box;text-align: center;}#sk-container-id-2 label.sk-toggleable__label-arrow:before {content: \"▸\";float: left;margin-right: 0.25em;color: #696969;}#sk-container-id-2 label.sk-toggleable__label-arrow:hover:before {color: black;}#sk-container-id-2 div.sk-estimator:hover label.sk-toggleable__label-arrow:before {color: black;}#sk-container-id-2 div.sk-toggleable__content {max-height: 0;max-width: 0;overflow: hidden;text-align: left;background-color: #f0f8ff;}#sk-container-id-2 div.sk-toggleable__content pre {margin: 0.2em;color: black;border-radius: 0.25em;background-color: #f0f8ff;}#sk-container-id-2 input.sk-toggleable__control:checked~div.sk-toggleable__content {max-height: 200px;max-width: 100%;overflow: auto;}#sk-container-id-2 input.sk-toggleable__control:checked~label.sk-toggleable__label-arrow:before {content: \"▾\";}#sk-container-id-2 div.sk-estimator input.sk-toggleable__control:checked~label.sk-toggleable__label {background-color: #d4ebff;}#sk-container-id-2 div.sk-label input.sk-toggleable__control:checked~label.sk-toggleable__label {background-color: #d4ebff;}#sk-container-id-2 input.sk-hidden--visually {border: 0;clip: rect(1px 1px 1px 1px);clip: rect(1px, 1px, 1px, 1px);height: 1px;margin: -1px;overflow: hidden;padding: 0;position: absolute;width: 1px;}#sk-container-id-2 div.sk-estimator {font-family: monospace;background-color: #f0f8ff;border: 1px dotted black;border-radius: 0.25em;box-sizing: border-box;margin-bottom: 0.5em;}#sk-container-id-2 div.sk-estimator:hover {background-color: #d4ebff;}#sk-container-id-2 div.sk-parallel-item::after {content: \"\";width: 100%;border-bottom: 1px solid gray;flex-grow: 1;}#sk-container-id-2 div.sk-label:hover label.sk-toggleable__label {background-color: #d4ebff;}#sk-container-id-2 div.sk-serial::before {content: \"\";position: absolute;border-left: 1px solid gray;box-sizing: border-box;top: 0;bottom: 0;left: 50%;z-index: 0;}#sk-container-id-2 div.sk-serial {display: flex;flex-direction: column;align-items: center;background-color: white;padding-right: 0.2em;padding-left: 0.2em;position: relative;}#sk-container-id-2 div.sk-item {position: relative;z-index: 1;}#sk-container-id-2 div.sk-parallel {display: flex;align-items: stretch;justify-content: center;background-color: white;position: relative;}#sk-container-id-2 div.sk-item::before, #sk-container-id-2 div.sk-parallel-item::before {content: \"\";position: absolute;border-left: 1px solid gray;box-sizing: border-box;top: 0;bottom: 0;left: 50%;z-index: -1;}#sk-container-id-2 div.sk-parallel-item {display: flex;flex-direction: column;z-index: 1;position: relative;background-color: white;}#sk-container-id-2 div.sk-parallel-item:first-child::after {align-self: flex-end;width: 50%;}#sk-container-id-2 div.sk-parallel-item:last-child::after {align-self: flex-start;width: 50%;}#sk-container-id-2 div.sk-parallel-item:only-child::after {width: 0;}#sk-container-id-2 div.sk-dashed-wrapped {border: 1px dashed gray;margin: 0 0.4em 0.5em 0.4em;box-sizing: border-box;padding-bottom: 0.4em;background-color: white;}#sk-container-id-2 div.sk-label label {font-family: monospace;font-weight: bold;display: inline-block;line-height: 1.2em;}#sk-container-id-2 div.sk-label-container {text-align: center;}#sk-container-id-2 div.sk-container {/* jupyter's `normalize.less` sets `[hidden] { display: none; }` but bootstrap.min.css set `[hidden] { display: none !important; }` so we also need the `!important` here to be able to override the default hidden behavior on the sphinx rendered scikit-learn.org. See: https://github.com/scikit-learn/scikit-learn/issues/21755 */display: inline-block !important;position: relative;}#sk-container-id-2 div.sk-text-repr-fallback {display: none;}</style><div id=\"sk-container-id-2\" class=\"sk-top-container\"><div class=\"sk-text-repr-fallback\"><pre>LGBMClassifier(random_state=0, verbose=-1)</pre><b>In a Jupyter environment, please rerun this cell to show the HTML representation or trust the notebook. <br />On GitHub, the HTML representation is unable to render, please try loading this page with nbviewer.org.</b></div><div class=\"sk-container\" hidden><div class=\"sk-item\"><div class=\"sk-estimator sk-toggleable\"><input class=\"sk-toggleable__control sk-hidden--visually\" id=\"sk-estimator-id-2\" type=\"checkbox\" checked><label for=\"sk-estimator-id-2\" class=\"sk-toggleable__label sk-toggleable__label-arrow\">LGBMClassifier</label><div class=\"sk-toggleable__content\"><pre>LGBMClassifier(random_state=0, verbose=-1)</pre></div></div></div></div></div>"
      ],
      "text/plain": [
       "LGBMClassifier(random_state=0, verbose=-1)"
      ]
     },
     "execution_count": 36,
     "metadata": {},
     "output_type": "execute_result"
    }
   ],
   "source": [
    "# LGBM 모델 학습\n",
    "from lightgbm import LGBMClassifier\n",
    "lgbm_model = LGBMClassifier(random_state=0, verbose=-1)\n",
    "lgbm_model.fit(X_train, y_train)"
   ]
  },
  {
   "cell_type": "code",
   "execution_count": 37,
   "metadata": {},
   "outputs": [
    {
     "name": "stdout",
     "output_type": "stream",
     "text": [
      "[Predict] 이탈 : 181, 미이탈 : 11819\n"
     ]
    }
   ],
   "source": [
    "# 예측\n",
    "y_pred = lgbm_model.predict(X_test)\n",
    "y_pred = list(y_pred)\n",
    "print('[Predict] 이탈 : {}, 미이탈 : {}'.format(y_pred.count(1), y_pred.count(0)))"
   ]
  },
  {
   "cell_type": "code",
   "execution_count": 38,
   "metadata": {},
   "outputs": [
    {
     "data": {
      "text/plain": [
       "0.9950833333333333"
      ]
     },
     "execution_count": 38,
     "metadata": {},
     "output_type": "execute_result"
    }
   ],
   "source": [
    "# Accuracy 측정\n",
    "from sklearn.metrics import accuracy_score\n",
    "accuracy_score(y_test, y_pred)"
   ]
  },
  {
   "cell_type": "code",
   "execution_count": 39,
   "metadata": {},
   "outputs": [
    {
     "data": {
      "text/plain": [
       "(0.8729281767955801, 0.8144329896907216, 0.8426666666666666, None)"
      ]
     },
     "execution_count": 39,
     "metadata": {},
     "output_type": "execute_result"
    }
   ],
   "source": [
    "# precision, recall, f1 score 측정\n",
    "from sklearn.metrics import precision_recall_fscore_support\n",
    "precision_recall_fscore_support(y_test, y_pred, average='binary')"
   ]
  },
  {
   "cell_type": "code",
   "execution_count": 40,
   "metadata": {},
   "outputs": [
    {
     "data": {
      "text/plain": [
       "array([[11783,    23],\n",
       "       [   36,   158]], dtype=int64)"
      ]
     },
     "execution_count": 40,
     "metadata": {},
     "output_type": "execute_result"
    }
   ],
   "source": [
    "from sklearn.metrics import confusion_matrix\n",
    "cm = confusion_matrix(y_test, y_pred)\n",
    "cm"
   ]
  },
  {
   "cell_type": "code",
   "execution_count": 43,
   "metadata": {},
   "outputs": [
    {
     "data": {
      "text/html": [
       "<div>\n",
       "<style scoped>\n",
       "    .dataframe tbody tr th:only-of-type {\n",
       "        vertical-align: middle;\n",
       "    }\n",
       "\n",
       "    .dataframe tbody tr th {\n",
       "        vertical-align: top;\n",
       "    }\n",
       "\n",
       "    .dataframe thead th {\n",
       "        text-align: right;\n",
       "    }\n",
       "</style>\n",
       "<table border=\"1\" class=\"dataframe\">\n",
       "  <thead>\n",
       "    <tr style=\"text-align: right;\">\n",
       "      <th></th>\n",
       "      <th>예측: 이탈 (1)</th>\n",
       "      <th>예측: 미이탈(0)</th>\n",
       "    </tr>\n",
       "  </thead>\n",
       "  <tbody>\n",
       "    <tr>\n",
       "      <th>실제: 이탈(1)</th>\n",
       "      <td>158</td>\n",
       "      <td>36</td>\n",
       "    </tr>\n",
       "    <tr>\n",
       "      <th>실제: 미이탈(0)</th>\n",
       "      <td>23</td>\n",
       "      <td>11783</td>\n",
       "    </tr>\n",
       "  </tbody>\n",
       "</table>\n",
       "</div>"
      ],
      "text/plain": [
       "            예측: 이탈 (1)  예측: 미이탈(0)\n",
       "실제: 이탈(1)          158          36\n",
       "실제: 미이탈(0)          23       11783"
      ]
     },
     "execution_count": 43,
     "metadata": {},
     "output_type": "execute_result"
    }
   ],
   "source": [
    "# cmtx 구성\n",
    "cmtx = pd.DataFrame(confusion_matrix(y_test, y_pred, labels = [1, 0]), index = ['실제: 이탈(1)', '실제: 미이탈(0)'],\n",
    "                   columns = ['예측: 이탈 (1)', '예측: 미이탈(0)'])\n",
    "cmtx"
   ]
  },
  {
   "cell_type": "code",
   "execution_count": 44,
   "metadata": {},
   "outputs": [
    {
     "data": {
      "image/png": "[encoded data removed]",
      "text/plain": [
       "<Figure size 500x500 with 2 Axes>"
      ]
     },
     "metadata": {},
     "output_type": "display_data"
    }
   ],
   "source": [
    "# cmtx 시각화\n",
    "import matplotlib.pyplot as plt\n",
    "import seaborn as sns\n",
    "import koreanize_matplotlib # 한글 폰트 안 깨지고 사용 가능\n",
    "# pip install koreanize-matplotlib\n",
    "\n",
    "plt.figure(figsize=(5,5))\n",
    "plt.title('Confusion Matrix')\n",
    "sns.heatmap(cmtx, annot=True, fmt='.0f', linewidth=.5)\n",
    "plt.show()\n"
   ]
  },
  {
   "cell_type": "code",
   "execution_count": 45,
   "metadata": {},
   "outputs": [
    {
     "name": "stdout",
     "output_type": "stream",
     "text": [
      "precision 0.8729281767955801, recall 0.8144329896907216, f1 0.8426666666666666\n"
     ]
    }
   ],
   "source": [
    "# Precision\n",
    "from sklearn.metrics import precision_score, recall_score, f1_score\n",
    "\n",
    "# TP / (TP+FP)\n",
    "precision = cmtx.iloc[0,0] / (cmtx.iloc[0,0]+cmtx.iloc[1,0])\n",
    "\n",
    "# Recall\n",
    "# TP /(TP+FN)\n",
    "recall = cmtx.iloc[0,0] / (cmtx.iloc[0,0]+cmtx.iloc[0,1])\n",
    "# F1 Score\n",
    "# 2 * (Prescion * Recall)/(Presicion + Recall)\n",
    "f1 = 2 * (precision*recall)/(precision+recall)\n",
    "                           \n",
    "                           \n",
    "print('precision {}, recall {}, f1 {}'.format(precision, recall, f1))\n",
    "\n",
    "\n"
   ]
  },
  {
   "cell_type": "code",
   "execution_count": null,
   "metadata": {},
   "outputs": [],
   "source": []
  }
 ],
 "metadata": {
  "kernelspec": {
   "display_name": "Python 3 (ipykernel)",
   "language": "python",
   "name": "python3"
  },
  "language_info": {
   "codemirror_mode": {
    "name": "ipython",
    "version": 3
   },
   "file_extension": ".py",
   "mimetype": "text/x-python",
   "name": "python",
   "nbconvert_exporter": "python",
   "pygments_lexer": "ipython3",
   "version": "3.10.9"
  },
  "vscode": {
   "interpreter": {
    "hash": "4e3525f6e1cc47164cfc06d7ee23635cf7d41bbfc83074fa39d2bdc746050ae0"
   }
  }
 },
 "nbformat": 4,
 "nbformat_minor": 2
}
